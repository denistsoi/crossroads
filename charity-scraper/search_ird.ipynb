{
 "cells": [
  {
   "cell_type": "markdown",
   "metadata": {},
   "source": [
    "##### Define Pages"
   ]
  },
  {
   "cell_type": "code",
   "execution_count": 1,
   "metadata": {},
   "outputs": [],
   "source": [
    "source_detail = \"https://www.ird.gov.hk/charity/view_detail.php\"\n",
    "source_root = \"https://www.ird.gov.hk/eng/tax/ach_index.htm\"\n",
    "source_search = \"https://www.ird.gov.hk/charity/search_result.php\""
   ]
  },
  {
   "cell_type": "markdown",
   "metadata": {},
   "source": [
    "##### Import Dependencies"
   ]
  },
  {
   "cell_type": "code",
   "execution_count": 55,
   "metadata": {},
   "outputs": [],
   "source": [
    "import requests\n",
    "from bs4 import BeautifulSoup as bs"
   ]
  },
  {
   "cell_type": "code",
   "execution_count": 3,
   "metadata": {},
   "outputs": [],
   "source": [
    "def search_page(term):\n",
    "    data = {\"q\": str(term)}\n",
    "    return requests.post(source_search, data)"
   ]
  },
  {
   "cell_type": "code",
   "execution_count": 47,
   "metadata": {},
   "outputs": [],
   "source": [
    "def detail_search(orgId):\n",
    "    data = {\"org_id\": str(orgId)}\n",
    "    return requests.post(source_detail, data)"
   ]
  },
  {
   "cell_type": "code",
   "execution_count": 56,
   "metadata": {},
   "outputs": [],
   "source": [
    "def extract_html(response):\n",
    "    \"\"\"\n",
    "    Given a response, return the html_string from the response body\n",
    "    \n",
    "    dependencies: BeautifulSoup as bs \n",
    "    \"\"\"\n",
    "    html = response.text\n",
    "    soup = bs(html, \"html.parser\")\n",
    "    return soup.body\n",
    "    "
   ]
  },
  {
   "cell_type": "markdown",
   "metadata": {},
   "source": [
    "##### Search with query \"crossroads\""
   ]
  },
  {
   "cell_type": "code",
   "execution_count": 4,
   "metadata": {},
   "outputs": [],
   "source": [
    "r = search_page(\"crossroads\")"
   ]
  },
  {
   "cell_type": "code",
   "execution_count": 5,
   "metadata": {},
   "outputs": [],
   "source": [
    "html = r.text"
   ]
  },
  {
   "cell_type": "markdown",
   "metadata": {},
   "source": [
    "Show search result for search page"
   ]
  },
  {
   "cell_type": "code",
   "execution_count": 53,
   "metadata": {},
   "outputs": [
    {
     "data": {
      "text/plain": [
       "'Search result for \"crossroads\": 5 record(s) found搜尋結果 \"crossroads\": 共找到5個記錄'"
      ]
     },
     "execution_count": 53,
     "metadata": {},
     "output_type": "execute_result"
    }
   ],
   "source": [
    "search_response = search_page(\"crossroads\")\n",
    "response_body = extract_html(search_response)\n",
    "\n",
    "response_body.find(id = \"search_des\").text"
   ]
  },
  {
   "cell_type": "code",
   "execution_count": 40,
   "metadata": {},
   "outputs": [],
   "source": [
    "# print(bs(str(body), \"html.parser\").prettify())"
   ]
  },
  {
   "cell_type": "markdown",
   "metadata": {},
   "source": [
    "#### Format the org data so we can extract orgId, english_name, chinese_name, isSubsidary"
   ]
  },
  {
   "cell_type": "code",
   "execution_count": 38,
   "metadata": {},
   "outputs": [
    {
     "name": "stdout",
     "output_type": "stream",
     "text": [
      "S010351 Crossroads' Global X-perience 環球 X 體驗 True\n",
      "91/04820 CROSSROADS FOUNDATION LIMITED 國際十字路協會有限公司 False\n",
      "S006486 Crossroads Global Distribution 十字路會環球分派中心 True\n",
      "S008168 Crossroads Global Handicrafts 十字路會環球工藝村 True\n",
      "S008169 Crossroads Global Village 十字路基金會環球村 True\n"
     ]
    }
   ],
   "source": [
    "orgs = body.find_all(\"form\")\n",
    "\n",
    "for org in orgs:\n",
    "    orgId = org.find(\"input\").attrs.get(\"value\")\n",
    "    names = org.find(\"a\").contents\n",
    "    english_name = names[0]\n",
    "    chinese_name = names[-1]\n",
    "    isSubsiduary = \"S\" in orgId\n",
    "    \n",
    "    print(orgId, english_name, chinese_name, isSubsiduary)"
   ]
  },
  {
   "cell_type": "markdown",
   "metadata": {},
   "source": [
    "---\n",
    "\n",
    "I want to be able to do the following:\n",
    "\n",
    "| orgId | english_name | chinese_name | effective_date | active | isSubsiduary | parentCompany |\n",
    "| --- | --- | --- | --- | --- | --- | --- |\n",
    "| 91/04820 | CROSSROADS FOUNDATION | 十字路會環球分派中心 | 07.01.1997 | true | false | |\n",
    "| S010353 | Goodcity.hk | 好人好市 | (from parent) 07.01.1997 | true | true | 91/04820 |\n",
    "\n"
   ]
  },
  {
   "cell_type": "code",
   "execution_count": null,
   "metadata": {},
   "outputs": [],
   "source": [
    "##### look at the detail html body for a subsiduary"
   ]
  },
  {
   "cell_type": "code",
   "execution_count": 60,
   "metadata": {},
   "outputs": [],
   "source": [
    "# subsiduary response\n",
    "detail_response = detail_search(\"S010351\")\n",
    "detail_body = extract_html(detail_response)\n",
    "# detail_body"
   ]
  },
  {
   "cell_type": "markdown",
   "metadata": {},
   "source": [
    "<table cellpadding=\"5\" cellspacing=\"5\" width=\"100%\">\n",
    "<!--display its org name as it have grandpa-->\n",
    "<tr><td align=\"left\" colspan=\"2\">Crossroads' Global X-perience</td></tr>\n",
    "<tr><td align=\"left\" colspan=\"2\">環球 X 體驗</td></tr>\n",
    "<tr><td align=\"center\" colspan=\"2\"><hr noshade=\"\" size=\"1\"/><div style=\"text-align:center\">Operated by 由以下團體主辦:</div><hr noshade=\"\" size=\"1\"/></td></tr>\n",
    "<tr><td align=\"left\" width=\"200\"><b>Name of organization:</b></td><td>CROSSROADS FOUNDATION LIMITED<td></td></td></tr>\n",
    "<tr><td align=\"left\"><b>慈善團體名字:</b></td><td>國際十字路協會有限公司</td></tr>\n",
    "<tr><td align=\"left\"><b>Alias:</b></td><td><br/></td></tr>\n",
    "<tr><td align=\"left\"><b>別名:</b></td><td><br/></td></tr>\n",
    "<tr><td align=\"left\"><b>Effective Date:</b><br/><b>生效日期:</b></td><td>07.01.1997</td></tr>\n",
    "</table>"
   ]
  },
  {
   "cell_type": "markdown",
   "metadata": {},
   "source": [
    "##### look at the detail html body for a parent company"
   ]
  },
  {
   "cell_type": "markdown",
   "metadata": {},
   "source": [
    "<table cellpadding=\"5\" cellspacing=\"5\" width=\"100%\">\n",
    "<tr><td align=\"left\" width=\"200\"><b>Name of organization:</b></td><td>CROSSROADS FOUNDATION LIMITED<td></td></td></tr>\n",
    "<tr><td align=\"left\"><b>慈善團體名字:</b></td><td>國際十字路協會有限公司</td></tr>\n",
    "<tr><td align=\"left\"><b>Alias:</b></td><td><br/></td></tr>\n",
    "<tr><td align=\"left\"><b>別名:</b></td><td><br/></td></tr>\n",
    "<tr><td align=\"left\"><b>Effective Date:</b><br/><b>生效日期:</b></td><td>07.01.1997</td></tr>\n",
    "</table>\n",
    "<p><table border=\"0\" cellpadding=\"3\" cellspacing=\"0\" width=\"600\">\n",
    "<tr><td style=\"background:#cccccc\"> </td><td style=\"background: #cccccc\" width=\"50%\"><b>Subsidiaries</b></td><td style=\"background: #cccccc\" width=\"50%\"><b>附屬團體</b></td></tr>\n",
    "<tr style=\"background: #ffffff\">\n",
    "<td>1.</td><td width=\"50%\">Crossroads Global Distribution</td>\n",
    "<td width=\"50%\">十字路會環球分派中心</td>\n",
    "</tr>\n",
    "<tr style=\"background: #eeeeee\">\n",
    "<td>2.</td><td width=\"50%\">Crossroads Global Handicrafts</td>\n",
    "<td width=\"50%\">十字路會環球工藝村</td>\n",
    "</tr>\n",
    "<tr style=\"background: #ffffff\">\n",
    "<td>3.</td><td width=\"50%\">Crossroads Global Village</td>\n",
    "<td width=\"50%\">十字路基金會環球村</td>\n",
    "</tr>\n",
    "<tr style=\"background: #eeeeee\">\n",
    "<td>4.</td><td width=\"50%\">Crossroads' Global X-perience</td>\n",
    "<td width=\"50%\">環球 X 體驗</td>\n",
    "</tr>\n",
    "<tr style=\"background: #ffffff\">\n",
    "<td>5.</td><td width=\"50%\">Global Hand</td>\n",
    "<td width=\"50%\">環球援手網絡</td>\n",
    "</tr>\n",
    "<tr style=\"background: #eeeeee\">\n",
    "<td>6.</td><td width=\"50%\">GoodCity.hk</td>\n",
    "<td width=\"50%\">好人好市</td>\n",
    "</tr>\n",
    "<tr style=\"background: #ffffff\">\n",
    "<td>7.</td><td width=\"50%\">Silk Road Café</td>\n",
    "<td width=\"50%\">絲路咖啡室</td>\n",
    "</tr>\n",
    "</table>"
   ]
  },
  {
   "cell_type": "code",
   "execution_count": 61,
   "metadata": {
    "scrolled": true
   },
   "outputs": [],
   "source": [
    "# org (parent) response\n",
    "detail_response = detail_search(\"91/04820\")\n",
    "detail_body = extract_html(detail_response)\n",
    "# detail_body"
   ]
  },
  {
   "cell_type": "code",
   "execution_count": null,
   "metadata": {},
   "outputs": [],
   "source": []
  }
 ],
 "metadata": {
  "kernelspec": {
   "display_name": "Python 3",
   "language": "python",
   "name": "python3"
  },
  "language_info": {
   "codemirror_mode": {
    "name": "ipython",
    "version": 3
   },
   "file_extension": ".py",
   "mimetype": "text/x-python",
   "name": "python",
   "nbconvert_exporter": "python",
   "pygments_lexer": "ipython3",
   "version": "3.7.4"
  }
 },
 "nbformat": 4,
 "nbformat_minor": 2
}
