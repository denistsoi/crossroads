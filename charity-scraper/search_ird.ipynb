{
 "cells": [
  {
   "cell_type": "markdown",
   "metadata": {},
   "source": [
    "##### Define Pages"
   ]
  },
  {
   "cell_type": "code",
   "execution_count": 1,
   "metadata": {},
   "outputs": [],
   "source": [
    "source_detail = \"https://www.ird.gov.hk/charity/view_detail.php\"\n",
    "source_root = \"https://www.ird.gov.hk/eng/tax/ach_index.htm\"\n",
    "source_search = \"https://www.ird.gov.hk/charity/search_result.php\""
   ]
  },
  {
   "cell_type": "markdown",
   "metadata": {},
   "source": [
    "##### Import Dependencies"
   ]
  },
  {
   "cell_type": "code",
   "execution_count": 2,
   "metadata": {},
   "outputs": [],
   "source": [
    "import requests"
   ]
  },
  {
   "cell_type": "code",
   "execution_count": 3,
   "metadata": {},
   "outputs": [],
   "source": [
    "def search_page(term):\n",
    "    data = {\"q\": str(term)}\n",
    "    return requests.post(source_search, data)"
   ]
  },
  {
   "cell_type": "markdown",
   "metadata": {},
   "source": [
    "##### Search with query \"crossroads\""
   ]
  },
  {
   "cell_type": "code",
   "execution_count": 4,
   "metadata": {},
   "outputs": [],
   "source": [
    "r = search_page(\"crossroads\")"
   ]
  },
  {
   "cell_type": "code",
   "execution_count": null,
   "metadata": {},
   "outputs": [],
   "source": []
  },
  {
   "cell_type": "code",
   "execution_count": 7,
   "metadata": {},
   "outputs": [],
   "source": [
    "html = r.text\n",
    "# html"
   ]
  },
  {
   "cell_type": "code",
   "execution_count": 11,
   "metadata": {},
   "outputs": [
    {
     "name": "stdout",
     "output_type": "stream",
     "text": [
      "Search result for \"crossroads\": 5 record(s) found搜尋結果 \"crossroads\": 共找到5個記錄\n"
     ]
    }
   ],
   "source": [
    "from bs4 import BeautifulSoup as bs\n",
    "\n",
    "soup = bs(html, 'html.parser')\n",
    "body = soup.body\n",
    "\n",
    "results = body.find(id='search_des')\n",
    "print(results.text)"
   ]
  },
  {
   "cell_type": "code",
   "execution_count": 9,
   "metadata": {},
   "outputs": [],
   "source": [
    "# print(bs(str(body), \"html.parser\").prettify())"
   ]
  },
  {
   "cell_type": "code",
   "execution_count": 10,
   "metadata": {},
   "outputs": [
    {
     "name": "stdout",
     "output_type": "stream",
     "text": [
      "[<form action=\"view_detail.php\" id=\"myform_0\" method=\"POST\" onsubmit=\"target_popup(this)\"><input name=\"org_id\" type=\"hidden\" value=\"S010351\"/><a class=\"mylink\" href=\"#\">Crossroads' Global X-perience<br/>環球 X 體驗</a></form>, <form action=\"view_detail.php\" id=\"myform_1\" method=\"POST\" onsubmit=\"target_popup(this)\"><input name=\"org_id\" type=\"hidden\" value=\"91/04820\"/><a class=\"mylink\" href=\"#\">CROSSROADS FOUNDATION LIMITED<br/>國際十字路協會有限公司</a></form>, <form action=\"view_detail.php\" id=\"myform_2\" method=\"POST\" onsubmit=\"target_popup(this)\"><input name=\"org_id\" type=\"hidden\" value=\"S006486\"/><a class=\"mylink\" href=\"#\">Crossroads Global Distribution<br/>十字路會環球分派中心</a></form>, <form action=\"view_detail.php\" id=\"myform_3\" method=\"POST\" onsubmit=\"target_popup(this)\"><input name=\"org_id\" type=\"hidden\" value=\"S008168\"/><a class=\"mylink\" href=\"#\">Crossroads Global Handicrafts<br/>十字路會環球工藝村</a></form>, <form action=\"view_detail.php\" id=\"myform_4\" method=\"POST\" onsubmit=\"target_popup(this)\"><input name=\"org_id\" type=\"hidden\" value=\"S008169\"/><a class=\"mylink\" href=\"#\">Crossroads Global Village<br/>十字路基金會環球村</a></form>]\n"
     ]
    }
   ],
   "source": [
    "orgs = body.find_all(\"form\")\n",
    "print(orgs)"
   ]
  },
  {
   "cell_type": "code",
   "execution_count": null,
   "metadata": {},
   "outputs": [],
   "source": []
  },
  {
   "cell_type": "code",
   "execution_count": 68,
   "metadata": {},
   "outputs": [],
   "source": [
    "# tags = body.find_all(\"a\", class_=\"mylink\")\n",
    "\n",
    "\n",
    "# names = []\n",
    "# for tag in tags:\n",
    "#     string = tag.encode_contents().replace(b'<br/>', b'\\t')\n",
    "#     text = bs(string, \"html.parser\").text\n",
    "#     names.append(text)\n",
    "\n",
    "# names"
   ]
  },
  {
   "cell_type": "code",
   "execution_count": null,
   "metadata": {},
   "outputs": [],
   "source": []
  },
  {
   "cell_type": "code",
   "execution_count": null,
   "metadata": {},
   "outputs": [],
   "source": []
  }
 ],
 "metadata": {
  "kernelspec": {
   "display_name": "Python 3",
   "language": "python",
   "name": "python3"
  },
  "language_info": {
   "codemirror_mode": {
    "name": "ipython",
    "version": 3
   },
   "file_extension": ".py",
   "mimetype": "text/x-python",
   "name": "python",
   "nbconvert_exporter": "python",
   "pygments_lexer": "ipython3",
   "version": "3.7.4"
  }
 },
 "nbformat": 4,
 "nbformat_minor": 2
}
